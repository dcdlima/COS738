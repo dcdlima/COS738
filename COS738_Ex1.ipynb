{
  "nbformat": 4,
  "nbformat_minor": 0,
  "metadata": {
    "colab": {
      "provenance": [],
      "authorship_tag": "ABX9TyNC8g4bUg3cH8TRipEL9bTO",
      "include_colab_link": true
    },
    "kernelspec": {
      "name": "python3",
      "display_name": "Python 3"
    },
    "language_info": {
      "name": "python"
    }
  },
  "cells": [
    {
      "cell_type": "markdown",
      "metadata": {
        "id": "view-in-github",
        "colab_type": "text"
      },
      "source": [
        "<a href=\"https://colab.research.google.com/github/dcdlima/COS738/blob/main/COS738_Ex1.ipynb\" target=\"_parent\"><img src=\"https://colab.research.google.com/assets/colab-badge.svg\" alt=\"Open In Colab\"/></a>"
      ]
    },
    {
      "cell_type": "code",
      "execution_count": 1,
      "metadata": {
        "colab": {
          "base_uri": "https://localhost:8080/"
        },
        "id": "Sv1BfVwTLO73",
        "outputId": "c66d72c4-889b-442e-8960-28c309cf8e5b"
      },
      "outputs": [
        {
          "output_type": "stream",
          "name": "stdout",
          "text": [
            "--2025-07-24 11:25:42--  https://github.com/LINE-PESC/Dados-Exercicios-Texto/raw/main/Base%20para%20usar%20no%20trabalho%20CysticFibrosis2-20240401.zip\n",
            "Resolving github.com (github.com)... 140.82.112.3\n",
            "Connecting to github.com (github.com)|140.82.112.3|:443... connected.\n",
            "HTTP request sent, awaiting response... 302 Found\n",
            "Location: https://raw.githubusercontent.com/LINE-PESC/Dados-Exercicios-Texto/main/Base%20para%20usar%20no%20trabalho%20CysticFibrosis2-20240401.zip [following]\n",
            "--2025-07-24 11:25:42--  https://raw.githubusercontent.com/LINE-PESC/Dados-Exercicios-Texto/main/Base%20para%20usar%20no%20trabalho%20CysticFibrosis2-20240401.zip\n",
            "Resolving raw.githubusercontent.com (raw.githubusercontent.com)... 185.199.111.133, 185.199.108.133, 185.199.110.133, ...\n",
            "Connecting to raw.githubusercontent.com (raw.githubusercontent.com)|185.199.111.133|:443... connected.\n",
            "HTTP request sent, awaiting response... 200 OK\n",
            "Length: 1548260 (1.5M) [application/zip]\n",
            "Saving to: ‘dataset.zip’\n",
            "\n",
            "dataset.zip         100%[===================>]   1.48M  --.-KB/s    in 0.07s   \n",
            "\n",
            "2025-07-24 11:25:43 (21.8 MB/s) - ‘dataset.zip’ saved [1548260/1548260]\n",
            "\n",
            "Archive:  dataset.zip\n",
            "  inflating: data/cf74.xml           \n",
            "  inflating: data/cf75.xml           \n",
            "  inflating: data/cf76.xml           \n",
            "  inflating: data/cf77.xml           \n",
            "  inflating: data/cf78.xml           \n",
            "  inflating: data/cf79.xml           \n",
            "  inflating: data/cfc-2.dtd          \n",
            "  inflating: data/cfcquery-2.dtd     \n",
            "  inflating: data/cfquery.xml        \n",
            "  inflating: data/Modern Information Retrieval - Cystic Fibrosis Collection.htm  \n",
            "Requirement already satisfied: nltk in /usr/local/lib/python3.11/dist-packages (3.9.1)\n",
            "Requirement already satisfied: click in /usr/local/lib/python3.11/dist-packages (from nltk) (8.2.1)\n",
            "Requirement already satisfied: joblib in /usr/local/lib/python3.11/dist-packages (from nltk) (1.5.1)\n",
            "Requirement already satisfied: regex>=2021.8.3 in /usr/local/lib/python3.11/dist-packages (from nltk) (2024.11.6)\n",
            "Requirement already satisfied: tqdm in /usr/local/lib/python3.11/dist-packages (from nltk) (4.67.1)\n"
          ]
        }
      ],
      "source": [
        "!wget -O dataset.zip https://github.com/LINE-PESC/Dados-Exercicios-Texto/raw/main/Base%20para%20usar%20no%20trabalho%20CysticFibrosis2-20240401.zip\n",
        "!unzip dataset.zip\n",
        "!rm -rf dataset.zip\n",
        "!rm -rf sample_data\n",
        "\n",
        "!pip install nltk"
      ]
    },
    {
      "cell_type": "code",
      "source": [
        "from pathlib import Path\n",
        "\n",
        "configs_dir = Path('configs')\n",
        "configs_dir.mkdir(exist_ok=True)\n",
        "\n",
        "with open(configs_dir/'PC.CFG', 'w') as conf:\n",
        "    conf.writelines('LEIA=data/cfquery.xml\\n')\n",
        "    conf.write('CONSULTAS=consultas.csv\\n')\n",
        "    conf.write('ESPERADOS=esperados.csv')\n",
        "\n",
        "with open(configs_dir/'GLI.CFG', 'w') as conf:\n",
        "    conf.write('LEIA=data/cf74.xml\\n')\n",
        "    conf.write('LEIA=data/cf75.xml\\n')\n",
        "    conf.write('LEIA=data/cf76.xml\\n')\n",
        "    conf.write('LEIA=data/cf77.xml\\n')\n",
        "    conf.write('LEIA=data/cf78.xml\\n')\n",
        "    conf.write('LEIA=data/cf79.xml\\n')\n",
        "    conf.write('ESCREVA=li.csv')\n",
        "\n",
        "with open(configs_dir/'INDEX.CFG', 'w') as conf:\n",
        "    conf.write('LEIA=li.csv\\n')\n",
        "    conf.write('ESCREVA=modelo_vetorial.json')\n",
        "\n",
        "with open(configs_dir/'BUSCA.CFG', 'w') as conf:\n",
        "    conf.write('MODELO=modelo_vetorial.json\\n')\n",
        "    conf.write('CONSULTAS=consultas.csv\\n')\n",
        "    conf.write('RESULTADOS=RESULTADOS.csv')"
      ],
      "metadata": {
        "id": "ct5NV8pzLb6i"
      },
      "execution_count": 7,
      "outputs": []
    },
    {
      "cell_type": "code",
      "source": [
        "import xml.etree.ElementTree as ET\n",
        "import csv\n",
        "import unicodedata\n",
        "import string\n",
        "import logging\n",
        "import time\n",
        "\n",
        "# Função para normalizar texto\n",
        "def normalizar_texto(texto):\n",
        "    texto = texto.upper()\n",
        "    texto = unicodedata.normalize('NFKD', texto).encode('ASCII', 'ignore').decode('ASCII')\n",
        "    texto = texto.translate(str.maketrans('', '', string.punctuation + ';'))\n",
        "    return texto.strip()\n",
        "\n",
        "# Iniciar log\n",
        "logging.basicConfig(filename='processador_consultas.log', level=logging.INFO, format='%(asctime)s - %(message)s')\n",
        "inicio_total = time.time()\n",
        "logging.info(\"Início do Processador de Consultas\")\n",
        "\n",
        "# Ler arquivo de configuração PC.CFG\n",
        "cfg_file = 'configs/PC.CFG'\n",
        "with open(cfg_file, 'r', encoding='utf-8') as f:\n",
        "    linhas_cfg = [linha.strip() for linha in f.readlines()]\n",
        "\n",
        "arquivo_xml = linhas_cfg[0].split('=')[1]\n",
        "arquivo_consultas = linhas_cfg[1].split('=')[1]\n",
        "arquivo_esperados = linhas_cfg[2].split('=')[1]\n",
        "logging.info(f\"Arquivo de configuração lido: {cfg_file}\")\n",
        "logging.info(f\"Arquivo XML: {arquivo_xml}, Consultas: {arquivo_consultas}, Esperados: {arquivo_esperados}\")\n",
        "\n",
        "# Ler e processar o arquivo XML\n",
        "tree = ET.parse(arquivo_xml)\n",
        "root = tree.getroot()\n",
        "logging.info(\"Arquivo XML carregado\")\n",
        "\n",
        "# Gerar arquivo de consultas normalizadas\n",
        "with open(arquivo_consultas, 'w', newline='', encoding='utf-8') as f_consultas:\n",
        "    writer_consultas = csv.writer(f_consultas, delimiter=';')\n",
        "    writer_consultas.writerow(['QueryNumber', 'QueryText'])\n",
        "\n",
        "    for query in root.findall('QUERY'):\n",
        "        query_number = query.find('QueryNumber').text.strip()\n",
        "        query_text = query.find('QueryText').text.strip()\n",
        "        query_text_normalizado = normalizar_texto(query_text)\n",
        "        writer_consultas.writerow([query_number, query_text_normalizado])\n",
        "\n",
        "logging.info(\"Arquivo de consultas normalizadas gerado\")\n",
        "\n",
        "# Gerar arquivo de resultados esperados\n",
        "with open(arquivo_esperados, 'w', newline='', encoding='utf-8') as f_esperados:\n",
        "    writer_esperados = csv.writer(f_esperados, delimiter=';')\n",
        "    writer_esperados.writerow(['QueryNumber', 'DocNumber', 'DocVotes'])\n",
        "\n",
        "    for query in root.findall('QUERY'):\n",
        "        query_number = query.find('QueryNumber').text.strip()\n",
        "        for item in query.find('Records').findall('Item'):\n",
        "            score = int(item.attrib.get('Score', '0'))\n",
        "            if score > 0:\n",
        "                doc_number = item.text.strip()\n",
        "                writer_esperados.writerow([query_number, doc_number, score])\n",
        "\n",
        "logging.info(\"Arquivo de resultados esperados gerado\")\n",
        "\n",
        "fim_total = time.time()\n",
        "logging.info(f\"Processamento concluído em {fim_total - inicio_total:.2f} segundos\")\n",
        "print(\"Processador de Consultas executado com sucesso.\")"
      ],
      "metadata": {
        "colab": {
          "base_uri": "https://localhost:8080/"
        },
        "id": "Rggcvq2ZLfp3",
        "outputId": "11d296a1-5146-4abd-b736-f7403cfe7837"
      },
      "execution_count": 8,
      "outputs": [
        {
          "output_type": "stream",
          "name": "stdout",
          "text": [
            "Processador de Consultas executado com sucesso.\n"
          ]
        }
      ]
    }
  ]
}